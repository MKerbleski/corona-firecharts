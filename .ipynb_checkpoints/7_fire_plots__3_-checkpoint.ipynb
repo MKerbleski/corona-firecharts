{
 "cells": [
  {
   "cell_type": "code",
   "execution_count": 8,
   "metadata": {},
   "outputs": [],
   "source": [
    "import pandas as pd\n",
    "import numpy as np\n",
    "import matplotlib\n",
    "import matplotlib.pyplot as plt\n",
    "from matplotlib import colors\n",
    "from matplotlib.ticker import MaxNLocator\n",
    "import matplotlib.ticker as ticker"
   ]
  },
  {
   "cell_type": "code",
   "execution_count": 1,
   "metadata": {},
   "outputs": [],
   "source": [
    "def cell_format(num):\n",
    "    if -1000 < num < 1000:\n",
    "        return num\n",
    "    \n",
    "    magnitude = 0\n",
    "    while abs(num) >= 1000:\n",
    "        magnitude += 1\n",
    "        num /= 1000.0\n",
    "    return '%.1f%s' % (num, ['', 'K', 'M', 'G', 'T', 'P'][magnitude])\n",
    "\n",
    "\n",
    "def fireplot(df, country, start_time=None, most_recent=0, save=True, show=False, fontsize=30, labelsize=30, titlesize=56, show_sum=True, split=False):\n",
    "    # trimming the df\n",
    "    if start_time:\n",
    "        df = df.iloc[df.index.get_loc(start_time):]\n",
    "    else:\n",
    "        df = df.iloc[np.argmax(df.sum(axis=1) >= 3):]\n",
    "        if most_recent: # so that most_recent and start_time trimming cannot be activated simultaneouly\n",
    "            df = df.iloc[-most_recent:,:]\n",
    "    \n",
    "    if type(df.index[-1]) != str:\n",
    "        date = df.index[-1].strftime('%Y-%m-%d')\n",
    "    else:\n",
    "        date = df.index[-1]\n",
    "    \n",
    "    if split:\n",
    "        dfs = []\n",
    "        for i in range(len(df.columns)//split):\n",
    "            dfs.append(df.iloc[:,i*split : (i+1)*split])\n",
    "        if len(df.columns) % split:\n",
    "            dfs.append(df.iloc[:,(i+1)*split : ])\n",
    "        for i in range(len(dfs)):\n",
    "            fireplot(dfs[i], country=country+'_'+str(i+1), split=False)\n",
    "        return\n",
    "    \n",
    "    if show_sum:\n",
    "        df.insert(loc=0, column='SUM', value=df.sum(axis=1))\n",
    "        \n",
    "\n",
    "    # main part, define color boundaries and colors\n",
    "    w_ratio = 1.5 if df.max().max() < 1000 else 2.5\n",
    "    fig, ax = plt.subplots(figsize=(int(df.shape[1]*w_ratio), df.shape[0]))\n",
    "\n",
    "    cmap = colors.ListedColormap(['#38d738','#ffff00','#ff9900','#b45f06','#ff0000','#741b47'])\n",
    "    bounds=[-100000,0.5,9.5,29.5,99.5,999.5,100000]\n",
    "    norm = colors.BoundaryNorm(bounds, cmap.N)\n",
    "    im = ax.imshow(df.fillna(0).values, cmap=cmap, norm=norm)\n",
    "\n",
    "    # tick labels\n",
    "    ax.set_xticks(np.arange(len(df.columns)))\n",
    "    ax.set_yticks(np.arange(len(df.index)))\n",
    "    ax.set_xticklabels(df.columns)\n",
    "    ax.set_yticklabels(df.index)\n",
    "    plt.setp(ax.get_xticklabels(), rotation=90, ha='right', va='center', rotation_mode=\"anchor\")\n",
    "    \n",
    "    # annotate, font color by cell bolor\n",
    "    for i in range(len(df.index)):\n",
    "        for j in range(len(df.columns)):\n",
    "            cell = df.fillna(0).values[i, j]\n",
    "            if cell:\n",
    "                cell_c = 'w' if (cell >= 1000 or cell < 0) else 'k'\n",
    "                cell_s = fontsize if (cell < 1000) else int(fontsize * 0.8)\n",
    "                text = ax.text(j, i, cell_format(cell),\n",
    "                               ha='center', va='center', color=cell_c, fontsize=cell_s)\n",
    "\n",
    "#     ax.set_title('%s Fireplot'%country, fontsize=titlesize)\n",
    "    ax.tick_params(labelsize=labelsize)\n",
    "    fig.tight_layout()\n",
    "    \n",
    "    # output\n",
    "    if save:\n",
    "        plt.savefig(r'figures\\fire/Fire_%s.png'%(country+'_'+date), dpi=100)\n",
    "    if not show:\n",
    "        plt.close()\n",
    "    print(date)"
   ]
  },
  {
   "cell_type": "code",
   "execution_count": null,
   "metadata": {},
   "outputs": [],
   "source": [
    "# Global"
   ]
  },
  {
   "cell_type": "code",
   "execution_count": 10,
   "metadata": {
    "code_folding": [
     6,
     11,
     15,
     18,
     24
    ]
   },
   "outputs": [
    {
     "name": "stdout",
     "output_type": "stream",
     "text": [
      "2020-05-28\n",
      "2020-05-28\n",
      "2020-05-28\n",
      "2020-05-28\n",
      "2020-05-28\n",
      "2020-05-28\n"
     ]
    }
   ],
   "source": [
    "df = pd.read_csv('https://raw.githubusercontent.com/CSSEGISandData/COVID-19/master/csse_covid_19_data/csse_covid_19_time_series/time_series_covid19_confirmed_global.csv')\n",
    "focus = df.copy().drop(['Lat','Long'], axis=1).set_index(['Country/Region','Province/State'])\n",
    "confirm = focus.groupby('Country/Region').sum()\n",
    "confirm.columns = pd.to_datetime(confirm.columns).strftime('%Y-%m-%d')\n",
    "df = confirm.T.diff()\n",
    "\n",
    "set_africa = {'South Africa','Algeria','Cameroon','Burkina Faso','Cote d\\'Ivoire','Mauritius','Nigeria','Senegal','Ghana',\n",
    "              'Niger','Congo (Kinshasa)','Kenya','Guinea','Rwanda','Madagascar','Uganda','Congo (Brazzaville)','Togo','Ethiopia','Zambia','Mali','Guinea-Bissau',\n",
    "              'Eritrea','Tanzania','Benin','Gabon','Equatorial Guinea','Namibia','Angola','Liberia','Seychelles','Mozambique',\n",
    "              'Eswatini','Zimbabwe','Central African Republic','Chad','Cabo Verde','Mauritania','Sierra Leone','Botswana','Gambia',\n",
    "              'Malawi','Sao Tome and Principe','Burundi','South Sudan','Western Sahara','Comoros','Lesotho'}\n",
    "set_america = {'US','Canada','Brazil','Chile','Ecuador','Peru','Mexico','Panama','Dominican Republic','Argentina','Colombia',\n",
    "               'Costa Rica','Uruguay','Cuba','Honduras','Bolivia','Venezuela','Paraguay','Trinidad and Tobago','Guatemala','El Salvador',\n",
    "               'Jamaica','Barbados','Bahamas','Guyana','Haiti','Antigua and Barbuda','Dominica','Saint Lucia','Grenada','Suriname',\n",
    "               'Saint Kitts and Nevis','Belize','Saint Vincent and the Grenadines','Nicaragua',}\n",
    "set_asia = {'China','Korea, South','Australia','Japan','Malaysia','Philippines','Singapore','New Zealand','Vietnam','Brunei',\n",
    "            'Cambodia','Mongolia','Fiji','Laos','Papua New Guinea','India','Indonesia','Thailand','Sri Lanka','Bangladesh',\n",
    "            'Burma','Maldives','Nepal','Bhutan','Timor-Leste','Tajikistan'}\n",
    "set_europe = {'Spain','Italy','Germany','France','United Kingdom','Switzerland','Belgium','Netherlands','Austria','Portugal',\n",
    "              'Israel','Sweden','Russia','Norway','Ireland','Czechia','Denmark','Poland','Romania','Luxembourg','Serbia','Finland',\n",
    "              'Greece','Iceland','Ukraine','Croatia','Estonia','Slovenia','Moldova','Lithuania','Armenia','Hungary','Belarus',\n",
    "              'Bosnia and Herzegovina','Kazakhstan','Azerbaijan','North Macedonia','Bulgaria','Latvia','Andorra','Slovakia',\n",
    "              'Uzbekistan','Cyprus','Albania','San Marino','Malta','Kyrgyzstan','Montenegro','Georgia','Liechtenstein','Monaco',\n",
    "              'Holy See','Kosovo'}\n",
    "set_middle_east = {'Iran','Turkey','Pakistan','Saudi Arabia','United Arab Emirates','Qatar','Egypt','Morocco','Iraq','Bahrain','Kuwait',\n",
    "                   'Tunisia','Lebanon','Oman','Afghanistan','Jordan','Djibouti','Syria','Libya','Sudan','Somalia','West Bank and Gaza',\n",
    "                  'Yemen'}\n",
    "\n",
    "\n",
    "fire = df.fillna(0).astype(int)\n",
    "fire = fire[fire.sum().sort_values(ascending=False).index]\n",
    "fire_asia = fire[[i for i in fire.columns if i in set_asia]]\n",
    "fire_middle_east = fire[[i for i in fire.columns if i in set_middle_east]]\n",
    "fire_europe = fire[[i for i in fire.columns if i in set_europe]]\n",
    "fire_africa = fire[[i for i in fire.columns if i in set_africa]]\n",
    "fire_america = fire[[i for i in fire.columns if i in set_america]]\n",
    "fire = fire_asia.join(fire_middle_east).join(fire_africa).join(fire_europe).join(fire_america)\n",
    "\n",
    "\n",
    "fireplot(fire, country='Global', split=35)"
   ]
  },
  {
   "cell_type": "markdown",
   "metadata": {},
   "source": [
    "# Countries"
   ]
  },
  {
   "cell_type": "markdown",
   "metadata": {},
   "source": [
    "## US"
   ]
  },
  {
   "cell_type": "code",
   "execution_count": 11,
   "metadata": {
    "scrolled": false
   },
   "outputs": [
    {
     "name": "stdout",
     "output_type": "stream",
     "text": [
      "2020-05-28\n",
      "2020-05-28\n"
     ]
    }
   ],
   "source": [
    "df = pd.read_csv('https://raw.githubusercontent.com/nytimes/covid-19-data/master/us-states.csv')\n",
    "df = df.pivot(index='date',columns='state',values='cases').iloc[32:]\n",
    "df = df[df.iloc[-1].sort_values(ascending=False).index].diff()\n",
    "df.index.rename('US', inplace=True)\n",
    "df = df.fillna(0).astype(int)\n",
    "\n",
    "fireplot(df, country='US', split=35)"
   ]
  },
  {
   "cell_type": "markdown",
   "metadata": {},
   "source": [
    "## Brazil"
   ]
  },
  {
   "cell_type": "code",
   "execution_count": 12,
   "metadata": {},
   "outputs": [
    {
     "name": "stdout",
     "output_type": "stream",
     "text": [
      "2020-05-29\n"
     ]
    }
   ],
   "source": [
    "df = pd.read_csv('https://raw.githubusercontent.com/wcota/covid19br/master/cases-brazil-states.csv')\n",
    "df = df.pivot_table(index='date',columns='state',values='newCases').fillna(0).drop('TOTAL',axis=1).fillna(0).astype(int)\n",
    "df = df[df.sum().sort_values(ascending=False).index]\n",
    "\n",
    "fireplot(df, country='Brazil')"
   ]
  },
  {
   "cell_type": "markdown",
   "metadata": {},
   "source": [
    "## Russia"
   ]
  },
  {
   "cell_type": "code",
   "execution_count": 13,
   "metadata": {},
   "outputs": [
    {
     "name": "stdout",
     "output_type": "stream",
     "text": [
      "2020-05-29\n",
      "2020-05-29\n"
     ]
    }
   ],
   "source": [
    "df = pd.read_csv('https://raw.githubusercontent.com/PhtRaveller/covid19-ru/master/data/covid_stats.csv')\n",
    "df = df.query('category==\"total\"').drop(['category',\n",
    "                                         'Наблюдение (всего)',\n",
    "                                         'Россия - сумма по регионам',\n",
    "                                         'Россия',\n",
    "                                         'Наблюдение'], axis=1)\n",
    "df.date = pd.to_datetime(df.date).dt.strftime('%Y-%m-%d')\n",
    "df.set_index('date', inplace=True)\n",
    "df = df.diff().fillna(0).astype(int)\n",
    "df = df[df.sum().sort_values(ascending=False).index]\n",
    "\n",
    "fireplot(df, country='Russia', split=50)"
   ]
  },
  {
   "cell_type": "markdown",
   "metadata": {},
   "source": [
    "## Spain"
   ]
  },
  {
   "cell_type": "code",
   "execution_count": 7,
   "metadata": {},
   "outputs": [
    {
     "name": "stdout",
     "output_type": "stream",
     "text": [
      "2020-05-28\n"
     ]
    }
   ],
   "source": [
    "df = pd.read_csv('https://raw.githubusercontent.com/Secuoyas-Experience/covid-19-es/master/datos-comunidades-csv/covid-19-ES-CCAA-DatosCasos.csv')\n",
    "df = df.pivot_table(index='fecha', columns='nombreCcaa', values='casosConfirmados').diff().fillna(0).astype(int)\n",
    "df = df[df.sum().sort_values(ascending=False).index]\n",
    "\n",
    "fireplot(df, country='Spain')"
   ]
  },
  {
   "cell_type": "markdown",
   "metadata": {},
   "source": [
    "## UK"
   ]
  },
  {
   "cell_type": "code",
   "execution_count": 517,
   "metadata": {},
   "outputs": [
    {
     "name": "stdout",
     "output_type": "stream",
     "text": [
      "2020-05-28\n"
     ]
    }
   ],
   "source": [
    "# only public lab results, less than total\n",
    "df = pd.read_csv('https://raw.githubusercontent.com/tomwhite/covid-19-uk-data/master/data/covid-19-cases-uk.csv')\n",
    "df['Area_full'] = df['Country'] + '-' + df['Area']\n",
    "df = df.pivot_table(index='Date', columns='Area_full', values='TotalCases').diff().fillna(0).astype(int)\n",
    "df = df[df.sum().sort_values(ascending=False).index]\n",
    "\n",
    "fireplot(df, country='UK')"
   ]
  },
  {
   "cell_type": "markdown",
   "metadata": {},
   "source": [
    "## Italy"
   ]
  },
  {
   "cell_type": "code",
   "execution_count": 14,
   "metadata": {},
   "outputs": [
    {
     "name": "stdout",
     "output_type": "stream",
     "text": [
      "2020-05-29\n"
     ]
    }
   ],
   "source": [
    "df = pd.read_csv('https://raw.githubusercontent.com/pcm-dpc/COVID-19/master/dati-regioni/dpc-covid19-ita-regioni.csv')\n",
    "df.data = df.data.apply(lambda i:i.split('T')[0])\n",
    "# df.data = pd.to_datetime(df.data)\n",
    "df = df.pivot_table(index='data',columns='denominazione_regione',values='nuovi_positivi')\n",
    "df = df[df.sum().sort_values(ascending=False).index]\n",
    "\n",
    "fireplot(df, country='Italy')"
   ]
  },
  {
   "cell_type": "markdown",
   "metadata": {},
   "source": [
    "## India"
   ]
  },
  {
   "cell_type": "code",
   "execution_count": 15,
   "metadata": {},
   "outputs": [
    {
     "name": "stdout",
     "output_type": "stream",
     "text": [
      "2020-05-30\n"
     ]
    }
   ],
   "source": [
    "df = pd.read_csv('https://raw.githubusercontent.com/pratik-bose/CoronaTracker/V1/CoronaData.csv')\n",
    "df = df.pivot_table(index='Date',columns='Name_1',values='TotalCases').diff().fillna(0).astype(int)\n",
    "df = df[df.sum().sort_values(ascending=False).index]\n",
    "\n",
    "fireplot(df, country='India')"
   ]
  },
  {
   "cell_type": "markdown",
   "metadata": {},
   "source": [
    "# US states"
   ]
  },
  {
   "cell_type": "code",
   "execution_count": 56,
   "metadata": {},
   "outputs": [
    {
     "name": "stdout",
     "output_type": "stream",
     "text": [
      "2020-05-28\n",
      "2020-05-28\n"
     ]
    }
   ],
   "source": [
    "country = 'Wisconsin'\n",
    "df = pd.read_csv('https://raw.githubusercontent.com/nytimes/covid-19-data/master/us-counties.csv')\n",
    "df = df[df['state']==country]\n",
    "df = df.pivot(index='date',columns='county',values='cases')\n",
    "df = df[df.iloc[-1].sort_values(ascending=False).index].diff()\n",
    "df.index.rename(country, inplace=True)\n",
    "df = df.fillna(0).astype(int)\n",
    "date = df.index[-1]\n",
    "\n",
    "fireplot(df, country, split = 40)"
   ]
  },
  {
   "cell_type": "code",
   "execution_count": 145,
   "metadata": {},
   "outputs": [],
   "source": [
    "# Batch generatate, takes some time to finish\n",
    "df = pd.read_csv('https://raw.githubusercontent.com/nytimes/covid-19-data/master/us-states.csv')\n",
    "df = df.pivot(index='date',columns='state',values='cases').iloc[32:]\n",
    "df = df[df.sum().sort_values(ascending=False).index]\n",
    "states = list(df)\n",
    "\n",
    "for country in states:\n",
    "    df = pd.read_csv('https://raw.githubusercontent.com/nytimes/covid-19-data/master/us-counties.csv')\n",
    "    df = df[df['state']==country]\n",
    "    df = df.pivot(index='date',columns='county',values='cases')\n",
    "    df = df[df.iloc[-1].sort_values(ascending=False).index].diff()\n",
    "    df.index.rename(country, inplace=True)\n",
    "    df = df.fillna(0).astype(int)\n",
    "    date = df.index[-1]\n",
    "\n",
    "    fireplot(df, country)    "
   ]
  },
  {
   "cell_type": "markdown",
   "metadata": {},
   "source": [
    "# Experimental ground"
   ]
  },
  {
   "cell_type": "code",
   "execution_count": 2,
   "metadata": {},
   "outputs": [
    {
     "ename": "SyntaxError",
     "evalue": "invalid syntax (<ipython-input-2-f4f2730fdf18>, line 48)",
     "output_type": "error",
     "traceback": [
      "\u001b[1;36m  File \u001b[1;32m\"<ipython-input-2-f4f2730fdf18>\"\u001b[1;36m, line \u001b[1;32m48\u001b[0m\n\u001b[1;33m    , start_time='2020-02-27'\u001b[0m\n\u001b[1;37m    ^\u001b[0m\n\u001b[1;31mSyntaxError\u001b[0m\u001b[1;31m:\u001b[0m invalid syntax\n"
     ]
    }
   ],
   "source": [
    "def fireplot(df, country, start_time=None, most_recent=0, w_ratio=1, h_ratio=1, save=True, show=False, fontsize=30, labelsize=30, titlesize=56):\n",
    "    if start_time:\n",
    "        df = df.iloc[df.index.get_loc(start_time):]\n",
    "    else:\n",
    "        df = df.iloc[np.argmax(df.sum(axis=1) >= 10):]\n",
    "        if most_recent: # so that most_recent and start_time trimming cannot be activated simultaneouly\n",
    "            df = df.iloc[-most_recent:,:]\n",
    "    fig, ax = plt.subplots(figsize=(int(df.shape[0]*h_ratio), int(df.shape[1]*w_ratio*max(1, (80//df.shape[1])))))\n",
    "\n",
    "    cmap = colors.ListedColormap(['#38d738','#ffff00','#ff9900','#b45f06','#ff0000','#741b47'])\n",
    "    bounds=[-100000,0.5,9.5,29.5,99.5,999.5,100000]\n",
    "    norm = colors.BoundaryNorm(bounds, cmap.N)\n",
    "\n",
    "    im = ax.imshow(df.fillna(0).values, cmap=cmap, norm=norm)\n",
    "\n",
    "    ax.set_xticks(np.arange(len(df.columns)-0.5))\n",
    "    ax.set_yticks(np.arange(len(df.index)))\n",
    "    ax.set_xticklabels(df.columns)\n",
    "    ax.set_yticklabels(df.index)\n",
    "\n",
    "\n",
    "    plt.setp(ax.get_xticklabels(), rotation=90, ha='right', rotation_mode=\"anchor\")\n",
    "\n",
    "    for i in range(len(df.index)):\n",
    "        for j in range(len(df.columns)):\n",
    "            cell = df.fillna(0).values[i, j]\n",
    "            if cell:\n",
    "                cell_c = 'w' if (cell >= 1000 or cell < 0) else 'k'\n",
    "                text = ax.text(j, i, cell_format(cell),\n",
    "                               ha='center', va='center', color=cell_c, fontsize=fontsize)\n",
    "\n",
    "    ax.set_title('%s Fireplot'%country, fontsize=titlesize)\n",
    "    ax.tick_params(labelsize=labelsize)\n",
    "    fig.tight_layout()\n",
    "    if save:\n",
    "        plt.savefig('figures/Fire_%s.png'%(country+'_'+date), dpi=40)\n",
    "    if not show:\n",
    "        plt.close()\n",
    "        \n",
    "df = pd.read_csv('https://raw.githubusercontent.com/nytimes/covid-19-data/master/us-states.csv')\n",
    "df = df.pivot(index='date',columns='state',values='cases').iloc[32:]\n",
    "df = df[df.iloc[-1].sort_values(ascending=False).index].diff()\n",
    "df.index.rename('US', inplace=True)\n",
    "df = df.fillna(0).astype(int)\n",
    "fireplot(df, country = 'US', w_ratio=1.3, h_ratio=1.3, show=True)\n",
    "\n",
    "fireplot(df, country, h_ratio=10, w_ratio=10, fontsize=24, labelsize=34,\n",
    " start_time='2020-02-27'\n",
    "         show=True\n",
    "        )"
   ]
  },
  {
   "cell_type": "code",
   "execution_count": null,
   "metadata": {},
   "outputs": [],
   "source": []
  }
 ],
 "metadata": {
  "kernelspec": {
   "display_name": "Python 3",
   "language": "python",
   "name": "python3"
  },
  "language_info": {
   "codemirror_mode": {
    "name": "ipython",
    "version": 3
   },
   "file_extension": ".py",
   "mimetype": "text/x-python",
   "name": "python",
   "nbconvert_exporter": "python",
   "pygments_lexer": "ipython3",
   "version": "3.8.3"
  },
  "toc": {
   "base_numbering": 1,
   "nav_menu": {},
   "number_sections": true,
   "sideBar": true,
   "skip_h1_title": false,
   "title_cell": "Table of Contents",
   "title_sidebar": "Contents",
   "toc_cell": false,
   "toc_position": {},
   "toc_section_display": true,
   "toc_window_display": true
  }
 },
 "nbformat": 4,
 "nbformat_minor": 4
}
